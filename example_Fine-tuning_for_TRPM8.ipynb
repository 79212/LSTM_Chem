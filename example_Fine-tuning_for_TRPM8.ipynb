{
 "cells": [
  {
   "cell_type": "code",
   "execution_count": 1,
   "metadata": {},
   "outputs": [
    {
     "name": "stdout",
     "output_type": "stream",
     "text": [
      "Using matplotlib backend: agg\n"
     ]
    }
   ],
   "source": [
    "import matplotlib.pyplot as plt\n",
    "%matplotlib\n",
    "\n",
    "from rdkit import RDLogger, Chem, DataStructs\n",
    "from rdkit.Chem import AllChem, Draw\n",
    "from rdkit.Chem.Draw import IPythonConsole\n",
    "RDLogger.DisableLog('rdApp.*')\n",
    "\n",
    "from lstm_chem.utils.config import process_config\n",
    "from lstm_chem.model import LSTMChem\n",
    "from lstm_chem.finetuner import LSTMChemFinetuner\n",
    "from lstm_chem.data_loader import DataLoader"
   ]
  },
  {
   "cell_type": "code",
   "execution_count": 2,
   "metadata": {},
   "outputs": [],
   "source": [
    "config = process_config('experiments/2019-12-13/LSTM_Chem/config.json')"
   ]
  },
  {
   "cell_type": "code",
   "execution_count": 3,
   "metadata": {},
   "outputs": [
    {
     "name": "stdout",
     "output_type": "stream",
     "text": [
      "Loading model architecture from experiments/2019-12-13/LSTM_Chem/model_arch.json ...\n",
      "Loading model checkpoint from experiments/2019-12-13/LSTM_Chem/checkpoints/LSTM_Chem-22-0.04.hdf5 ...\n",
      "Loaded the Model.\n"
     ]
    }
   ],
   "source": [
    "modeler = LSTMChem(config, session='finetune')"
   ]
  },
  {
   "cell_type": "code",
   "execution_count": 4,
   "metadata": {},
   "outputs": [
    {
     "name": "stderr",
     "output_type": "stream",
     "text": [
      "100%|██████████| 5/5 [00:00<00:00, 730.18it/s]"
     ]
    },
    {
     "name": "stdout",
     "output_type": "stream",
     "text": [
      "loading SMILES...\n",
      "done.\n",
      "tokenizing SMILES...\n",
      "done.\n"
     ]
    },
    {
     "name": "stderr",
     "output_type": "stream",
     "text": [
      "\n"
     ]
    }
   ],
   "source": [
    "finetune_dl = DataLoader(config, data_type='finetune')\n",
    "finetuner = LSTMChemFinetuner(modeler, finetune_dl, config)"
   ]
  },
  {
   "cell_type": "code",
   "execution_count": 5,
   "metadata": {},
   "outputs": [
    {
     "name": "stdout",
     "output_type": "stream",
     "text": [
      "Epoch 1/12\n",
      "5/5 [==============================] - 4s 716ms/step - loss: 1.3457\n",
      "Epoch 2/12\n",
      "5/5 [==============================] - 3s 523ms/step - loss: 1.3115\n",
      "Epoch 3/12\n",
      "5/5 [==============================] - 3s 544ms/step - loss: 1.0693\n",
      "Epoch 4/12\n",
      "5/5 [==============================] - 2s 482ms/step - loss: 1.0694\n",
      "Epoch 5/12\n",
      "5/5 [==============================] - 2s 488ms/step - loss: 0.9951\n",
      "Epoch 6/12\n",
      "5/5 [==============================] - 2s 473ms/step - loss: 1.0402\n",
      "Epoch 7/12\n",
      "5/5 [==============================] - 2s 475ms/step - loss: 1.1591\n",
      "Epoch 8/12\n",
      "5/5 [==============================] - 2s 471ms/step - loss: 1.0439\n",
      "Epoch 9/12\n",
      "5/5 [==============================] - 3s 523ms/step - loss: 0.6943\n",
      "Epoch 10/12\n",
      "5/5 [==============================] - 3s 535ms/step - loss: 0.9293\n",
      "Epoch 11/12\n",
      "5/5 [==============================] - 3s 530ms/step - loss: 0.9347\n",
      "Epoch 12/12\n",
      "5/5 [==============================] - 3s 550ms/step - loss: 1.0151\n"
     ]
    },
    {
     "data": {
      "text/plain": [
       "<tensorflow.python.keras.callbacks.History at 0x7f305ec84d50>"
      ]
     },
     "execution_count": 5,
     "metadata": {},
     "output_type": "execute_result"
    }
   ],
   "source": [
    "finetuner.finetune()"
   ]
  },
  {
   "cell_type": "code",
   "execution_count": 6,
   "metadata": {},
   "outputs": [
    {
     "name": "stderr",
     "output_type": "stream",
     "text": [
      "100%|██████████| 100/100 [10:23<00:00,  6.23s/it]\n"
     ]
    }
   ],
   "source": [
    "finetuned_samples = finetuner.sample(num=10000)"
   ]
  },
  {
   "cell_type": "code",
   "execution_count": 7,
   "metadata": {},
   "outputs": [],
   "source": [
    "mols = []\n",
    "for f_smi in finetuned_samples:\n",
    "    mol = Chem.MolFromSmiles(f_smi)\n",
    "    if mol is not None:\n",
    "        mols.append(mol)"
   ]
  },
  {
   "cell_type": "code",
   "execution_count": 8,
   "metadata": {},
   "outputs": [
    {
     "data": {
      "text/plain": [
       "5"
      ]
     },
     "execution_count": 8,
     "metadata": {},
     "output_type": "execute_result"
    }
   ],
   "source": [
    "len(mols)"
   ]
  }
 ],
 "metadata": {
  "kernelspec": {
   "display_name": "Python 3",
   "language": "python",
   "name": "python3"
  },
  "language_info": {
   "codemirror_mode": {
    "name": "ipython",
    "version": 3
   },
   "file_extension": ".py",
   "mimetype": "text/x-python",
   "name": "python",
   "nbconvert_exporter": "python",
   "pygments_lexer": "ipython3",
   "version": "3.7.5"
  }
 },
 "nbformat": 4,
 "nbformat_minor": 2
}
